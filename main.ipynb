{
 "cells": [
  {
   "cell_type": "code",
   "execution_count": 1,
   "id": "0c125fb5-f281-4e1e-aeed-b66181233d70",
   "metadata": {},
   "outputs": [
    {
     "name": "stdout",
     "output_type": "stream",
     "text": [
      "Requirement already satisfied: pyspark in .\\venv\\lib\\site-packages (3.4.1)\n",
      "Requirement already satisfied: py4j==0.10.9.7 in .\\venv\\lib\\site-packages (from pyspark) (0.10.9.7)\n"
     ]
    },
    {
     "name": "stderr",
     "output_type": "stream",
     "text": [
      "\n",
      "[notice] A new release of pip is available: 23.2.1 -> 24.0\n",
      "[notice] To update, run: python.exe -m pip install --upgrade pip\n"
     ]
    }
   ],
   "source": [
    "!pip install pyspark"
   ]
  },
  {
   "cell_type": "code",
   "execution_count": 47,
   "id": "c77014b3-faa2-44bd-bdb1-646c8631ef74",
   "metadata": {},
   "outputs": [],
   "source": [
    "import pyspark"
   ]
  },
  {
   "cell_type": "code",
   "execution_count": 127,
   "id": "3e87c7bd-c00a-4aba-9049-bfb1d2df5777",
   "metadata": {},
   "outputs": [],
   "source": [
    "from pyspark.sql import SparkSession"
   ]
  },
  {
   "cell_type": "code",
   "execution_count": 128,
   "id": "21fcccbf-d749-4639-8774-51b6091cc12f",
   "metadata": {},
   "outputs": [],
   "source": [
    "spark=SparkSession.builder.appName('Practice').getOrCreate()"
   ]
  },
  {
   "cell_type": "code",
   "execution_count": 5,
   "id": "5b700098-dedd-47f2-bad6-a7bfec29342a",
   "metadata": {},
   "outputs": [
    {
     "name": "stdout",
     "output_type": "stream",
     "text": [
      "+----+-------+---------+------------------+-------+---------+-------+------------------+-----+------------------+-----------------+-----------+-------+---------+---------+---------+-----------+-------------+\n",
      "| _c0|    _c1|      _c2|               _c3|    _c4|      _c5|    _c6|               _c7|  _c8|               _c9|             _c10|       _c11|   _c12|     _c13|     _c14|     _c15|       _c16|         _c17|\n",
      "+----+-------+---------+------------------+-------+---------+-------+------------------+-----+------------------+-----------------+-----------+-------+---------+---------+---------+-----------+-------------+\n",
      "|NULL|game_id|period_id|      time_seconds|team_id|player_id|start_x|           start_y|end_x|             end_y|original_event_id|bodypart_id|type_id|result_id|action_id|type_name|result_name|bodypart_name|\n",
      "|   0|2500089|        1|2.7635970000000043|   1659|     9637|   52.5|              34.0| 63.0|              30.6|        251700146|          0|      0|        1|        0|     pass|    success|         foot|\n",
      "|   1|2500089|        1|4.7613529999999855|   1659|     8351|   63.0|              30.6|64.05|10.200000000000003|        251700147|          0|      0|        1|        1|     pass|    success|         foot|\n",
      "|   2|2500089|        1| 5.533096999999998|   1659|     9285|  64.05|10.200000000000003|72.45|              20.4|        251700148|          0|      0|        1|        2|     pass|    success|         foot|\n",
      "|   3|2500089|        1| 7.707560999999997|   1659|   239411|  72.45|              20.4| 35.7|             19.04|        251700161|          0|      0|        1|        3|     pass|    success|         foot|\n",
      "+----+-------+---------+------------------+-------+---------+-------+------------------+-----+------------------+-----------------+-----------+-------+---------+---------+---------+-----------+-------------+\n",
      "only showing top 5 rows\n",
      "\n"
     ]
    }
   ],
   "source": [
    "df = spark.read.csv(\"data/raw/Dataset/actions.csv\")\n",
    "df.show(5)"
   ]
  },
  {
   "cell_type": "code",
   "execution_count": 7,
   "id": "54969b56-827b-4dd9-ac43-2d8932ef87c4",
   "metadata": {},
   "outputs": [
    {
     "name": "stdout",
     "output_type": "stream",
     "text": [
      "+-------+------------+--------------------+--------+--------------------+-------+---------+------+-----------+------------------+----------+---------+------------+----------+----------+----------+----------+\n",
      "|    _c0|         _c1|                 _c2|     _c3|                 _c4|    _c5|      _c6|   _c7|        _c8|               _c9|      _c10|     _c11|        _c12|      _c13|      _c14|      _c15|      _c16|\n",
      "+-------+------------+--------------------+--------+--------------------+-------+---------+------+-----------+------------------+----------+---------+------------+----------+----------+----------+----------+\n",
      "|eventId|subEventName|                tags|playerId|           positions|matchId|eventName|teamId|matchPeriod|          eventSec|subEventId|       id|    tagsList|pos_orig_y|pos_orig_x|pos_dest_y|pos_dest_x|\n",
      "|      8| Simple pass|      [{'id': 1801}]|   25413|[{'y': 49, 'x': 4...|2499719|     Pass|  1609|         1H|2.7586489999999912|      85.0|177959171|      [1801]|        49|        49|        78|        31|\n",
      "|      8|   High pass|      [{'id': 1801}]|  370224|[{'y': 78, 'x': 3...|2499719|     Pass|  1609|         1H| 4.946850000000012|      83.0|177959172|      [1801]|        78|        31|        75|        51|\n",
      "|      8|   Head pass|      [{'id': 1801}]|    3319|[{'y': 75, 'x': 5...|2499719|     Pass|  1609|         1H|  6.54218800000001|      82.0|177959173|      [1801]|        75|        51|        71|        35|\n",
      "|      8|   Head pass|      [{'id': 1801}]|  120339|[{'y': 71, 'x': 3...|2499719|     Pass|  1609|         1H| 8.143394999999998|      82.0|177959174|      [1801]|        71|        35|        95|        41|\n",
      "|      8| Simple pass|      [{'id': 1801}]|  167145|[{'y': 95, 'x': 4...|2499719|     Pass|  1609|         1H|10.302366000000006|      85.0|177959175|      [1801]|        95|        41|        88|        72|\n",
      "|      8| Simple pass|      [{'id': 1802}]|    3319|[{'y': 88, 'x': 7...|2499719|     Pass|  1609|         1H|12.548934000000004|      85.0|177959177|      [1802]|        88|        72|        75|        77|\n",
      "|      8|   Head pass|      [{'id': 1801}]|    8653|[{'y': 25, 'x': 2...|2499719|     Pass|  1631|         1H|13.961228000000006|      82.0|177959186|      [1801]|        25|        23|        15|        39|\n",
      "|      1|    Air duel|[{'id': 701}, {'i...|    8013|[{'y': 15, 'x': 3...|2499719|     Duel|  1631|         1H|         14.765321|      10.0|177959189| [701, 1802]|        15|        39|        20|        33|\n",
      "|      1|    Air duel|[{'id': 703}, {'i...|       0|[{'y': 85, 'x': 6...|2499719|     Duel|  1609|         1H|         14.765321|      10.0|177961218| [703, 1801]|        85|        61|        80|        67|\n",
      "|      8|   Head pass|[{'id': 1401}, {'...|  167145|[{'y': 80, 'x': 6...|2499719|     Pass|  1609|         1H|15.320341000000012|      82.0|177959178|[1401, 1801]|        80|        67|        61|        59|\n",
      "|      8|   Head pass|      [{'id': 1801}]|   49876|[{'y': 61, 'x': 5...|2499719|     Pass|  1609|         1H|18.051874999999995|      82.0|177959179|      [1801]|        61|        59|        45|        45|\n",
      "|      8|   High pass|      [{'id': 1801}]|   14869|[{'y': 45, 'x': 4...|2499719|     Pass|  1609|         1H|         20.426527|      83.0|177959180|      [1801]|        45|        45|        54|        71|\n",
      "|      1|    Air duel|[{'id': 703}, {'i...|    8653|[{'y': 46, 'x': 2...|2499719|     Duel|  1631|         1H|         21.878309|      10.0|177959191| [703, 1801]|        46|        29|        41|        50|\n",
      "|      1|    Air duel|[{'id': 701}, {'i...|   25413|[{'y': 54, 'x': 7...|2499719|     Duel|  1609|         1H|         22.551816|      10.0|177959181| [701, 1802]|        54|        71|        59|        50|\n",
      "|      8|   High pass|      [{'id': 1802}]|    3560|[{'y': 59, 'x': 5...|2499719|     Pass|  1609|         1H|24.588310000000007|      83.0|177959182|      [1802]|        59|        50|        69|        76|\n",
      "|      8|   Head pass|      [{'id': 1801}]|    8653|[{'y': 31, 'x': 2...|2499719|     Pass|  1631|         1H|         25.904249|      82.0|177959194|      [1801]|        31|        24|        15|        42|\n",
      "|      8|   Head pass|      [{'id': 1801}]|    8013|[{'y': 15, 'x': 4...|2499719|     Pass|  1631|         1H| 27.52769599999999|      82.0|177959195|      [1801]|        15|        42|        26|        29|\n",
      "|      8| Simple pass|      [{'id': 1801}]|  265366|[{'y': 26, 'x': 2...|2499719|     Pass|  1631|         1H|         29.980898|      85.0|177959196|      [1801]|        26|        29|         8|        37|\n",
      "|      8| Simple pass|      [{'id': 1801}]|    8013|[{'y': 8, 'x': 37...|2499719|     Pass|  1631|         1H|31.163870000000003|      85.0|177959197|      [1801]|         8|        37|         5|        23|\n",
      "+-------+------------+--------------------+--------+--------------------+-------+---------+------+-----------+------------------+----------+---------+------------+----------+----------+----------+----------+\n",
      "only showing top 20 rows\n",
      "\n"
     ]
    }
   ],
   "source": [
    "events_df = spark.read.csv(\"data/raw/Dataset/events_England.csv\")\n",
    "events_df.show()"
   ]
  },
  {
   "cell_type": "code",
   "execution_count": 131,
   "id": "0dd3aaba",
   "metadata": {},
   "outputs": [
    {
     "name": "stdout",
     "output_type": "stream",
     "text": [
      "+------+-------+--------+--------------------+--------+-------------------+------+--------------------+-------+--------------------+--------------------+--------------------+--------+-------------+-------------+-------------+----------+------------+-----------+------------+------------------+--------------------+-------------+---------------------+----------------------+-----------------------------+-------------+-------------+----------+------------+-----------+------------+------------------+--------------------+-------------+---------------------+----------------------+-----------------------------+\n",
      "|status|roundId|gameweek|           teamsData|seasonId|            dateutc|winner|               venue|   wyId|               label|                date|            referees|duration|competitionId|team1_scoreET|team1_coachId|team1_side|team1_teamId|team1_score|team1_scoreP|team1_hasFormation|     team1_formation|team1_scoreHT|team1_formation_bench|team1_formation_lineup|team1_formation_substitutions|team2_scoreET|team2_coachId|team2_side|team2_teamId|team2_score|team2_scoreP|team2_hasFormation|     team2_formation|team2_scoreHT|team2_formation_bench|team2_formation_lineup|team2_formation_substitutions|\n",
      "+------+-------+--------+--------------------+--------+-------------------+------+--------------------+-------+--------------------+--------------------+--------------------+--------+-------------+-------------+-------------+----------+------------+-----------+------------+------------------+--------------------+-------------+---------------------+----------------------+-----------------------------+-------------+-------------+----------+------------+-----------+------------+------------------+--------------------+-------------+---------------------+----------------------+-----------------------------+\n",
      "|Played|4405654|      38|{'1646': {'scoreE...|  181150|2018-05-13 14:00:00|  1659|           Turf Moor|2500089|Burnley - AFC Bou...|May 13, 2018 at 4...|[{'refereeId': 38...| Regular|          364|            0|         8880|      home|        1646|          1|           0|                 1|{'bench': [{'play...|            1| [{'playerId': 775...|  [{'playerId': 920...|         [{'playerIn': 912...|            0|         8934|      away|        1659|          2|           0|                 1|{'bench': [{'play...|            0| [{'playerId': 110...|  [{'playerId': 259...|         [{'playerIn': 798...|\n",
      "|Played|4405654|      38|{'1628': {'scoreE...|  181150|2018-05-13 14:00:00|  1628|       Selhurst Park|2500090|Crystal Palace - ...|May 13, 2018 at 4...|[{'refereeId': 38...| Regular|          364|            0|         8357|      home|        1628|          2|           0|                 1|{'bench': [{'play...|            0| [{'playerId': 850...|  [{'playerId': 862...|         [{'playerIn': 380...|            0|            0|      away|        1627|          0|           0|                 1|{'bench': [{'play...|            0| [{'playerId': 399...|  [{'playerId': 255...|         [{'playerIn': 261...|\n",
      "|Played|4405654|      38|{'1609': {'scoreE...|  181150|2018-05-13 14:00:00|  1609|The John Smith's ...|2500091|Huddersfield Town...|May 13, 2018 at 4...|[{'refereeId': 38...| Regular|          364|            0|         7845|      away|        1609|          1|           0|                 1|{'bench': [{'play...|            1| [{'playerId': 785...|  [{'playerId': 258...|         [{'playerIn': 794...|            0|        18572|      home|        1673|          0|           0|                 1|{'bench': [{'play...|            0| [{'playerId': 274...|  [{'playerId': 941...|         [{'playerIn': 383...|\n",
      "|Played|4405654|      38|{'1651': {'scoreE...|  181150|2018-05-13 14:00:00|  1612|             Anfield|2500092|Liverpool - Brigh...|May 13, 2018 at 4...|[{'refereeId': 38...| Regular|          364|            0|         8093|      away|        1651|          0|           0|                 1|{'bench': [{'play...|            0| [{'playerId': 797...|  [{'playerId': 120...|         [{'playerIn': 155...|            0|        14791|      home|        1612|          4|           0|                 1|{'bench': [{'play...|            2| [{'playerId': 74,...|  [{'playerId': 257...|         [{'playerIn': 814...|\n",
      "|Played|4405654|      38|{'1644': {'scoreE...|  181150|2018-05-13 14:00:00|  1611|        Old Trafford|2500093|Manchester United...|May 13, 2018 at 4...|[{'refereeId': 38...| Regular|          364|            0|        93112|      away|        1644|          0|           0|                 1|{'bench': [{'play...|            0| [{'playerId': 204...|  [{'playerId': 680...|         [{'playerIn': 888...|            0|         3295|      home|        1611|          1|           0|                 1|{'bench': [{'play...|            1| [{'playerId': 791...|  [{'playerId': 793...|         [{'playerIn': 813...|\n",
      "|Played|4405654|      38|{'1613': {'scoreE...|  181150|2018-05-13 14:00:00|  1613|     St. James' Park|2500094|Newcastle United ...|May 13, 2018 at 4...|[{'refereeId': 38...| Regular|          364|            0|       210700|      home|        1613|          3|           0|                 1|{'bench': [{'play...|            1| [{'playerId': 882...|  [{'playerId': 125...|         [{'playerIn': 332...|            0|       272869|      away|        1610|          0|           0|                 1|{'bench': [{'play...|            0| [{'playerId': 355...|  [{'playerId': 260...|         [{'playerIn': 332...|\n",
      "|Played|4405654|      38|{'1625': {'scoreE...|  181150|2018-05-13 14:00:00|  1625|  St. Mary's Stadium|2500095|Southampton - Man...|May 13, 2018 at 4...|[{'refereeId': 38...| Regular|          364|            0|       267136|      away|        1625|          1|           0|                 1|{'bench': [{'play...|            0| [{'playerId': 241...|  [{'playerId': 846...|         [{'playerIn': 340...|            0|         9054|      home|        1619|          0|           0|                 1|{'bench': [{'play...|            0| [{'playerId': 302...|  [{'playerId': 895...|         [{'playerIn': 838...|\n",
      "|Played|4405654|      38|{'10531': {'score...|  181150|2018-05-13 14:00:00|  1639|     Liberty Stadium|2500096|Swansea City - St...|May 13, 2018 at 4...|[{'refereeId': 37...| Regular|          364|            0|        32573|      home|       10531|          1|           0|                 1|{'bench': [{'play...|            1| [{'playerId': 149...|  [{'playerId': 849...|         [{'playerIn': 775...|            0|         8329|      away|        1639|          2|           0|                 1|{'bench': [{'play...|            2| [{'playerId': 399...|  [{'playerId': 775...|         [{'playerIn': 793...|\n",
      "|Played|4405654|      38|{'1631': {'scoreE...|  181150|2018-05-13 14:00:00|  1624|     Wembley Stadium|2500097|Tottenham Hotspur...|May 13, 2018 at 4...|[{'refereeId': 37...| Regular|          364|            0|       209010|      away|        1631|          4|           0|                 1|{'bench': [{'play...|            2| [{'playerId': 353...|  [{'playerId': 149...|         [{'playerIn': 419...|            0|         3782|      home|        1624|          5|           0|                 1|{'bench': [{'play...|            1| [{'playerId': 456...|  [{'playerId': 407...|         [{'playerIn': 134...|\n",
      "|Played|4405654|      38|{'1623': {'scoreE...|  181150|2018-05-13 14:00:00|  1633|      London Stadium|2500098|West Ham United -...|May 13, 2018 at 4...|[{'refereeId': 40...| Regular|          364|            0|         8541|      away|        1623|          1|           0|                 1|{'bench': [{'play...|            0| [{'playerId': 286...|  [{'playerId': 863...|         [{'playerIn': 56,...|            0|         8235|      home|        1633|          3|           0|                 1|{'bench': [{'play...|            1| [{'playerId': 830...|  [{'playerId': 264...|         [{'playerIn': 265...|\n",
      "|Played|4405654|      31|{'1633': {'scoreE...|  181150|2018-05-10 18:45:00|     0|      London Stadium|2500028|West Ham United -...|May 10, 2018 at 8...|[{'refereeId': 38...| Regular|          364|            0|         3295|      away|        1611|          0|           0|                 1|{'bench': [{'play...|            0| [{'playerId': 38,...|  [{'playerId': 793...|         [{'playerIn': 397...|            0|         8235|      home|        1633|          0|           0|                 1|{'bench': [{'play...|            0| [{'playerId': 365...|  [{'playerId': 264...|         [{'playerIn': 797...|\n",
      "|Played|4405654|      31|{'1651': {'scoreE...|  181150|2018-05-09 19:00:00|  1625|      Etihad Stadium|2500024|Manchester City -...|May 9, 2018 at 9:...|[{'refereeId': 38...| Regular|          364|            0|         8093|      away|        1651|          1|           0|                 1|{'bench': [{'play...|            1| [{'playerId': 841...|  [{'playerId': 155...|         [{'playerIn': 120...|            0|       267136|      home|        1625|          3|           0|                 1|{'bench': [{'play...|            2| [{'playerId': 283...|  [{'playerId': 241...|         [{'playerIn': 261...|\n",
      "|Played|4405654|      31|{'1613': {'scoreE...|  181150|2018-05-09 19:00:00|  1624|     Wembley Stadium|2500027|Tottenham Hotspur...|May 9, 2018 at 9:...|[{'refereeId': 38...| Regular|          364|            0|       210700|      away|        1613|          0|           0|                 1|{'bench': [{'play...|            0| [{'playerId': 882...|  [{'playerId': 254...|         [{'playerIn': 293...|            0|       292863|      home|        1624|          1|           0|                 1|{'bench': [{'play...|            0| [{'playerId': 456...|  [{'playerId': 149...|         [{'playerIn': 204...|\n",
      "|Played|4405654|      31|{'1609': {'scoreE...|  181150|2018-05-09 18:45:00|  1631|  King Power Stadium|2500022|Leicester City - ...|May 9, 2018 at 8:...|[{'refereeId': 40...| Regular|          364|            0|         7845|      away|        1609|          1|           0|                 1|{'bench': [{'play...|            0| [{'playerId': 785...|  [{'playerId': 794...|         [{'playerIn': 206...|            0|       209010|      home|        1631|          3|           0|                 1|{'bench': [{'play...|            1| [{'playerId': 282...|  [{'playerId': 277...|         [{'playerIn': 283...|\n",
      "|Played|4405654|      35|{'1610': {'scoreE...|  181150|2018-05-09 18:45:00|     0|     Stamford Bridge|2500062|Chelsea - Hudders...|May 9, 2018 at 8:...|[{'refereeId': 38...| Regular|          364|            0|        18572|      away|        1673|          1|           0|                 1|{'bench': [{'play...|            0| [{'playerId': 274...|  [{'playerId': 173...|         [{'playerIn': 829...|            0|       272869|      home|        1610|          1|           0|                 1|{'bench': [{'play...|            0| [{'playerId': 862...|  [{'playerId': 228...|         [{'playerIn': 260...|\n",
      "|Played|4405654|      31|{'10531': {'score...|  181150|2018-05-08 18:45:00|  1619|     Liberty Stadium|2500026|Swansea City - So...|May 8, 2018 at 8:...|[{'refereeId': 38...| Regular|          364|            0|         9054|      away|        1619|          1|           0|                 1|{'bench': [{'play...|            0| [{'playerId': 302...|  [{'playerId': 811...|         [{'playerIn': 838...|            0|        32573|      home|       10531|          0|           0|                 1|{'bench': [{'play...|            0| [{'playerId': 149...|  [{'playerId': 819...|         [{'playerIn': 343...|\n",
      "|Played|4405654|      37|{'1609': {'scoreE...|  181150|2018-05-06 15:30:00|  1609|    Emirates Stadium|2500080|Arsenal - Burnley...|May 6, 2018 at 5:...|[{'refereeId': 38...| Regular|          364|            0|         8880|      away|        1646|          0|           0|                 1|{'bench': [{'play...|            0| [{'playerId': 775...|  [{'playerId': 912...|         [{'playerIn': 912...|            0|         7845|      home|        1609|          5|           0|                 1|{'bench': [{'play...|            2| [{'playerId': 206...|  [{'playerId': 254...|         [{'playerIn': 794...|\n",
      "|Played|4405654|      37|{'1612': {'scoreE...|  181150|2018-05-06 15:30:00|  1610|     Stamford Bridge|2500082|Chelsea - Liverpo...|May 6, 2018 at 5:...|[{'refereeId': 37...| Regular|          364|            0|        14791|      away|        1612|          0|           0|                 1|{'bench': [{'play...|            0| [{'playerId': 895...|  [{'playerId': 839...|         [{'playerIn': 796...|            0|        20454|      home|        1610|          1|           0|                 1|{'bench': [{'play...|            1| [{'playerId': 355...|  [{'playerId': 257...|         [{'playerIn': 105...|\n",
      "|Played|4405654|      37|{'1625': {'scoreE...|  181150|2018-05-06 12:30:00|     0|      Etihad Stadium|2500085|Manchester City -...|May 6, 2018 at 2:...|[{'refereeId': 38...| Regular|          364|            0|        18572|      away|        1673|          0|           0|                 1|{'bench': [{'play...|            0| [{'playerId': 274...|  [{'playerId': 214...|         [{'playerIn': 383...|            0|       267136|      home|        1625|          0|           0|                 1|{'bench': [{'play...|            0| [{'playerId': 366...|  [{'playerId': 846...|         [{'playerIn': 261...|\n",
      "|Played|4405654|      37|{'1623': {'scoreE...|  181150|2018-05-05 16:30:00|     0|       Goodison Park|2500083|Everton - Southam...|May 5, 2018 at 6:...|[{'refereeId': 38...| Regular|          364|            0|         9054|      away|        1619|          1|           0|                 1|{'bench': [{'play...|            0| [{'playerId': 813...|  [{'playerId': 296...|         [{'playerIn': 811...|            0|         8541|      home|        1623|          1|           0|                 1|{'bench': [{'play...|            0| [{'playerId': 286...|  [{'playerId': 919...|         [{'playerIn': 863...|\n",
      "+------+-------+--------+--------------------+--------+-------------------+------+--------------------+-------+--------------------+--------------------+--------------------+--------+-------------+-------------+-------------+----------+------------+-----------+------------+------------------+--------------------+-------------+---------------------+----------------------+-----------------------------+-------------+-------------+----------+------------+-----------+------------+------------------+--------------------+-------------+---------------------+----------------------+-----------------------------+\n",
      "only showing top 20 rows\n",
      "\n"
     ]
    }
   ],
   "source": [
    "# We will read the csv file into a dataframe\n",
    "# But the headers has \".\" on some of the name which will throw error later on\n",
    "# to minimize this risk we will replace it with underscore.\n",
    "\n",
    "def replace_character(col_name: str) -> str:\n",
    "    col_name = col_name.replace(\".\", \"_\")\n",
    "    return col_name\n",
    "\n",
    "matches = spark.read.csv(\"data/raw/Dataset/matches_England.csv\", header=True) \n",
    "new_columns = [replace_character(column) for column in matches.columns]\n",
    "matches = matches.toDF(*new_columns)\n",
    "matches.show()\n",
    "\n",
    "\n",
    "# Row(_c0='status', _c1='roundId', _c2='gameweek', _c3='teamsData', _c4='seasonId', \n",
    "# _c5='dateutc', _c6='winner', _c7='venue', _c8='wyId', _c9='label', _c10='date', _c11='referees',\n",
    "# _c12='duration', _c13='competitionId', _c14='team1.scoreET', _c15='team1.coachId', _c16='team1.side', \n",
    "# _c17='team1.teamId', _c18='team1.score', _c19='team1.scoreP', _c20='team1.hasFormation', _c21='team1.formation', \n",
    "# _c22='team1.scoreHT', _c23='team1.formation.bench', _c24='team1.formation.lineup', _c25='team1.formation.substitutions', \n",
    "# _c26='team2.scoreET', _c27='team2.coachId', _c28='team2.side', _c29='team2.teamId', _c30='team2.score', _c31='team2.scoreP',\n",
    "#  _c32='team2.hasFormation', _c33='team2.formation', _c34='team2.scoreHT', _c35='team2.formation.bench', \n",
    "# _c36='team2.formation.lineup', _c37='team2.formation.substitutions')\n",
    "# matches.select(['_c9', '_c10', lit(matches.team1.score + matches.team2.score).alias(\"totalGoals\")]).show()"
   ]
  },
  {
   "cell_type": "code",
   "execution_count": 125,
   "id": "e7eba2fe",
   "metadata": {},
   "outputs": [
    {
     "name": "stdout",
     "output_type": "stream",
     "text": [
      "+--------------------------------------+--------------------------------------------+----------+\n",
      "|date                                  |label                                       |totalGoals|\n",
      "+--------------------------------------+--------------------------------------------+----------+\n",
      "|May 13, 2018 at 4:00:00 PM GMT+2      |Tottenham Hotspur - Leicester City, 5 - 4   |9.0       |\n",
      "|October 14, 2017 at 4:00:00 PM GMT+2  |Manchester City - Stoke City, 7 - 2         |9.0       |\n",
      "|August 11, 2017 at 8:45:00 PM GMT+2   |Arsenal - Leicester City, 4 - 3             |7.0       |\n",
      "|January 14, 2018 at 5:00:00 PM GMT+1  |Liverpool - Manchester City, 4 - 3          |7.0       |\n",
      "|December 26, 2017 at 1:30:00 PM GMT+1 |Tottenham Hotspur - Southampton, 5 - 2      |7.0       |\n",
      "|October 22, 2017 at 2:30:00 PM GMT+2  |Everton - Arsenal, 2 - 5                    |7.0       |\n",
      "|August 12, 2017 at 1:30:00 PM GMT+2   |Watford - Liverpool, 3 - 3                  |6.0       |\n",
      "|December 22, 2017 at 8:45:00 PM GMT+1 |Arsenal - Liverpool, 3 - 3                  |6.0       |\n",
      "|February 10, 2018 at 6:30:00 PM GMT+1 |Manchester City - Leicester City, 5 - 1     |6.0       |\n",
      "|February 3, 2018 at 6:30:00 PM GMT+1  |Arsenal - Everton, 5 - 1                    |6.0       |\n",
      "|December 26, 2017 at 4:00:00 PM GMT+1 |AFC Bournemouth - West Ham United, 3 - 3    |6.0       |\n",
      "|December 9, 2017 at 4:00:00 PM GMT+1  |Tottenham Hotspur - Stoke City, 5 - 1       |6.0       |\n",
      "|December 2, 2017 at 4:00:00 PM GMT+1  |Brighton & Hove Albion - Liverpool, 1 - 5   |6.0       |\n",
      "|November 28, 2017 at 9:00:00 PM GMT+1 |Watford - Manchester United, 2 - 4          |6.0       |\n",
      "|October 21, 2017 at 1:30:00 PM GMT+2  |Chelsea - Watford, 4 - 2                    |6.0       |\n",
      "|September 16, 2017 at 4:00:00 PM GMT+2|Watford - Manchester City, 0 - 6            |6.0       |\n",
      "|August 19, 2017 at 4:00:00 PM GMT+2   |Southampton - West Ham United, 3 - 2        |5.0       |\n",
      "|March 3, 2018 at 4:00:00 PM GMT+1     |Swansea City - West Ham United, 4 - 1       |5.0       |\n",
      "|August 12, 2017 at 4:00:00 PM GMT+2   |Chelsea - Burnley, 2 - 3                    |5.0       |\n",
      "|February 24, 2018 at 4:00:00 PM GMT+1 |Brighton & Hove Albion - Swansea City, 4 - 1|5.0       |\n",
      "+--------------------------------------+--------------------------------------------+----------+\n",
      "only showing top 20 rows\n",
      "\n"
     ]
    }
   ],
   "source": [
    "# lets create a custom query dataframe\n",
    "\n",
    "from pyspark.sql.functions import col\n",
    "\n",
    "# select required columns\n",
    "most_goals_df = matches.where(matches.status == 'Played') \\\n",
    "                .select(\"date\", \"label\", (matches.team1_score + matches.team2_score).alias(\"totalGoals\")) \\\n",
    "                    \n",
    "most_goals_df.sort([most_goals_df.totalGoals], ascending=False).show(truncate=False)"
   ]
  },
  {
   "cell_type": "code",
   "execution_count": 132,
   "id": "ba77d64b",
   "metadata": {},
   "outputs": [],
   "source": [
    "spark.stop()"
   ]
  }
 ],
 "metadata": {
  "kernelspec": {
   "display_name": "Python 3 (ipykernel)",
   "language": "python",
   "name": "python3"
  },
  "language_info": {
   "codemirror_mode": {
    "name": "ipython",
    "version": 3
   },
   "file_extension": ".py",
   "mimetype": "text/x-python",
   "name": "python",
   "nbconvert_exporter": "python",
   "pygments_lexer": "ipython3",
   "version": "3.10.10"
  }
 },
 "nbformat": 4,
 "nbformat_minor": 5
}

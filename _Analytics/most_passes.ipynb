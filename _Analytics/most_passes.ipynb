{
 "cells": [
  {
   "cell_type": "code",
   "execution_count": 28,
   "metadata": {},
   "outputs": [],
   "source": [
    "# start the spark server\n",
    "\n",
    "from pyspark.sql import SparkSession\n",
    "\n",
    "spark=SparkSession.builder.appName('soccer_analytics').getOrCreate()"
   ]
  },
  {
   "cell_type": "code",
   "execution_count": 29,
   "metadata": {},
   "outputs": [
    {
     "name": "stdout",
     "output_type": "stream",
     "text": [
      "+---+-------+---------+------------------+-------+---------+------------------+------------------+------------------+------------------+-----------------+-----------+-------+---------+---------+---------+-----------+-------------+\n",
      "|_c0|game_id|period_id|      time_seconds|team_id|player_id|           start_x|           start_y|             end_x|             end_y|original_event_id|bodypart_id|type_id|result_id|action_id|type_name|result_name|bodypart_name|\n",
      "+---+-------+---------+------------------+-------+---------+------------------+------------------+------------------+------------------+-----------------+-----------+-------+---------+---------+---------+-----------+-------------+\n",
      "|  0|2500089|        1|2.7635970000000043|   1659|     9637|              52.5|              34.0|              63.0|              30.6|        251700146|          0|      0|        1|        0|     pass|    success|         foot|\n",
      "|  1|2500089|        1|4.7613529999999855|   1659|     8351|              63.0|              30.6|             64.05|10.200000000000003|        251700147|          0|      0|        1|        1|     pass|    success|         foot|\n",
      "|  2|2500089|        1| 5.533096999999998|   1659|     9285|             64.05|10.200000000000003|             72.45|              20.4|        251700148|          0|      0|        1|        2|     pass|    success|         foot|\n",
      "|  3|2500089|        1| 7.707560999999997|   1659|   239411|             72.45|              20.4|              35.7|             19.04|        251700161|          0|      0|        1|        3|     pass|    success|         foot|\n",
      "|  4|2500089|        1|11.614942999999982|   1659|     9637|              35.7|             19.04|30.450000000000003|12.240000000000002|        251700149|          0|      0|        1|        4|     pass|    success|         foot|\n",
      "|  5|2500089|        1|15.373672999999997|   1659|   245813|30.450000000000003|12.240000000000002| 9.450000000000003| 4.759999999999998|        251700150|          0|      0|        1|        5|     pass|    success|         foot|\n",
      "|  6|2500089|        1| 17.58425699999998|   1659|     9285| 9.450000000000003| 4.759999999999998| 8.400000000000006|              34.0|        251700152|          0|      1|        0|        6|    cross|       fail|         foot|\n",
      "|  7|2500089|        1|19.340378999999988|   1646|     9433|              96.6|              34.0|2.0999999999999943| 8.159999999999997|        251700185|          0|     18|        0|        7|clearance|       fail|         foot|\n",
      "|  8|2500089|        1|21.436162000000024|   1659|     9285|2.0999999999999943| 8.159999999999997|2.0999999999999943| 8.159999999999997|        251700153|          0|      1|        0|        8|    cross|       fail|         foot|\n",
      "|  9|2500089|        1| 24.47094399999997|   1646|     8643|              98.7|             59.84|22.049999999999997|               0.0|        251700187|          0|     18|        0|        9|clearance|       fail|         foot|\n",
      "+---+-------+---------+------------------+-------+---------+------------------+------------------+------------------+------------------+-----------------+-----------+-------+---------+---------+---------+-----------+-------------+\n",
      "only showing top 10 rows\n",
      "\n"
     ]
    }
   ],
   "source": [
    "events_df = spark.read.csv(\"../Dataset/actions.csv\", header=True)\n",
    "events_df.show(10)"
   ]
  },
  {
   "cell_type": "code",
   "execution_count": 30,
   "metadata": {},
   "outputs": [
    {
     "name": "stdout",
     "output_type": "stream",
     "text": [
      "+--------------------+------+---------+----------+--------+-------------+----------+------+--------------------+--------------------+----+-----+---------+---------------------+\n",
      "|        passportArea|weight|firstName|middleName|lastName|currentTeamId| birthDate|height|                role|           birthArea|wyId| foot|shortName|currentNationalTeamId|\n",
      "+--------------------+------+---------+----------+--------+-------------+----------+------+--------------------+--------------------+----+-----+---------+---------------------+\n",
      "|{'name': 'Gambia'...|    74|   Joshua|      NULL|    King|       1659.0|1992-01-15|   180|{'code2': 'FW', '...|{'name': 'Norway'...|9637|right|  J. King|               7336.0|\n",
      "+--------------------+------+---------+----------+--------+-------------+----------+------+--------------------+--------------------+----+-----+---------+---------------------+\n",
      "\n"
     ]
    }
   ],
   "source": [
    "players_df = spark.read.csv(\"../Dataset/players.csv\", header=True)\n",
    "players_df.where(players_df.wyId == 9637).show()"
   ]
  },
  {
   "cell_type": "code",
   "execution_count": 39,
   "metadata": {},
   "outputs": [
    {
     "name": "stdout",
     "output_type": "stream",
     "text": [
      "+---------+--------------------+---------+\n",
      "|player_id|          playerName|numPasses|\n",
      "+---------+--------------------+---------+\n",
      "|    49876|        Granit Xhaka|     3716|\n",
      "|    70086|Nicol\\u00e1s Hern...|     3268|\n",
      "|    21315|Jorge Luiz Frello...|     3136|\n",
      "|    38021|     Kevin De Bruyne|     3045|\n",
      "|    25726|   Kalidou Koulibaly|     2998|\n",
      "|   105339|  Fernando Luiz Rosa|     2972|\n",
      "|     3476|   Ivan Rakiti\\u0107|     2914|\n",
      "|    14723|          Toni Kroos|     2851|\n",
      "|       48|      Jan Vertonghen|     2835|\n",
      "|     8277|         Kyle Walker|     2794|\n",
      "|     8317|David Josu\\u00e9 ...|     2719|\n",
      "|    31528|   N'Golo Kant\\u00e9|     2676|\n",
      "|     3346|Sergio Busquets i...|     2676|\n",
      "|    21171|Marek Ham\\u0161\\u...|     2661|\n",
      "|    25553|C\\u00e9sar Azpili...|     2659|\n",
      "|     3269|    Jordi Alba Ramos|     2634|\n",
      "|    70122|  Nemanja Mati\\u0107|     2586|\n",
      "|   210044|          Eric  Dier|     2581|\n",
      "|     3306|Sergio Ramos Garc...|     2569|\n",
      "|   131959|                NULL|     2536|\n",
      "+---------+--------------------+---------+\n",
      "only showing top 20 rows\n",
      "\n"
     ]
    }
   ],
   "source": [
    "from pyspark.sql.functions import concat, col, lit, count\n",
    "\n",
    "combine_df = events_df.join(players_df, events_df.player_id == players_df.wyId, \"left\") \\\n",
    "    .where(events_df.type_name == \"pass\")\n",
    "new_player_df = combine_df.select(\"player_id\", (concat(col(\"firstName\"), lit(\" \"), col(\"lastName\"))).alias(\"playerName\"))\n",
    "# combine_df.printSchema()\n",
    "new_player_df = new_player_df.groupBy(\"player_id\", \"playerName\") \\\n",
    "            .agg(count(\"*\").alias(\"numPasses\"))\n",
    "ordered_player_df = new_player_df.sort(new_player_df.numPasses, ascending=False)\n",
    "ordered_player_df.show()"
   ]
  }
 ],
 "metadata": {
  "kernelspec": {
   "display_name": "venv",
   "language": "python",
   "name": "python3"
  },
  "language_info": {
   "codemirror_mode": {
    "name": "ipython",
    "version": 3
   },
   "file_extension": ".py",
   "mimetype": "text/x-python",
   "name": "python",
   "nbconvert_exporter": "python",
   "pygments_lexer": "ipython3",
   "version": "3.10.10"
  }
 },
 "nbformat": 4,
 "nbformat_minor": 2
}

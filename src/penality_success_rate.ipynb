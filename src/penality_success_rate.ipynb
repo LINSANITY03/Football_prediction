{
 "cells": [
  {
   "cell_type": "code",
   "execution_count": 3,
   "metadata": {},
   "outputs": [],
   "source": [
    "# start the spark server\n",
    "\n",
    "from pyspark.sql import SparkSession\n",
    "\n",
    "spark=SparkSession.builder.appName('soccer_analytics').getOrCreate()"
   ]
  },
  {
   "cell_type": "code",
   "execution_count": 4,
   "metadata": {},
   "outputs": [
    {
     "name": "stdout",
     "output_type": "stream",
     "text": [
      "+-------+------------+----------------------------+--------+----------------------------------------+-------+---------+------+-----------+------------------+----------+---------+------------+----------+----------+----------+----------+\n",
      "|eventId|subEventName|tags                        |playerId|positions                               |matchId|eventName|teamId|matchPeriod|eventSec          |subEventId|id       |tagsList    |pos_orig_y|pos_orig_x|pos_dest_y|pos_dest_x|\n",
      "+-------+------------+----------------------------+--------+----------------------------------------+-------+---------+------+-----------+------------------+----------+---------+------------+----------+----------+----------+----------+\n",
      "|8      |Simple pass |[{'id': 1801}]              |25413   |[{'y': 49, 'x': 49}, {'y': 78, 'x': 31}]|2499719|Pass     |1609  |1H         |2.7586489999999912|85.0      |177959171|[1801]      |49        |49        |78        |31        |\n",
      "|8      |High pass   |[{'id': 1801}]              |370224  |[{'y': 78, 'x': 31}, {'y': 75, 'x': 51}]|2499719|Pass     |1609  |1H         |4.946850000000012 |83.0      |177959172|[1801]      |78        |31        |75        |51        |\n",
      "|8      |Head pass   |[{'id': 1801}]              |3319    |[{'y': 75, 'x': 51}, {'y': 71, 'x': 35}]|2499719|Pass     |1609  |1H         |6.54218800000001  |82.0      |177959173|[1801]      |75        |51        |71        |35        |\n",
      "|8      |Head pass   |[{'id': 1801}]              |120339  |[{'y': 71, 'x': 35}, {'y': 95, 'x': 41}]|2499719|Pass     |1609  |1H         |8.143394999999998 |82.0      |177959174|[1801]      |71        |35        |95        |41        |\n",
      "|8      |Simple pass |[{'id': 1801}]              |167145  |[{'y': 95, 'x': 41}, {'y': 88, 'x': 72}]|2499719|Pass     |1609  |1H         |10.302366000000006|85.0      |177959175|[1801]      |95        |41        |88        |72        |\n",
      "|8      |Simple pass |[{'id': 1802}]              |3319    |[{'y': 88, 'x': 72}, {'y': 75, 'x': 77}]|2499719|Pass     |1609  |1H         |12.548934000000004|85.0      |177959177|[1802]      |88        |72        |75        |77        |\n",
      "|8      |Head pass   |[{'id': 1801}]              |8653    |[{'y': 25, 'x': 23}, {'y': 15, 'x': 39}]|2499719|Pass     |1631  |1H         |13.961228000000006|82.0      |177959186|[1801]      |25        |23        |15        |39        |\n",
      "|1      |Air duel    |[{'id': 701}, {'id': 1802}] |8013    |[{'y': 15, 'x': 39}, {'y': 20, 'x': 33}]|2499719|Duel     |1631  |1H         |14.765321         |10.0      |177959189|[701, 1802] |15        |39        |20        |33        |\n",
      "|1      |Air duel    |[{'id': 703}, {'id': 1801}] |0       |[{'y': 85, 'x': 61}, {'y': 80, 'x': 67}]|2499719|Duel     |1609  |1H         |14.765321         |10.0      |177961218|[703, 1801] |85        |61        |80        |67        |\n",
      "|8      |Head pass   |[{'id': 1401}, {'id': 1801}]|167145  |[{'y': 80, 'x': 67}, {'y': 61, 'x': 59}]|2499719|Pass     |1609  |1H         |15.320341000000012|82.0      |177959178|[1401, 1801]|80        |67        |61        |59        |\n",
      "|8      |Head pass   |[{'id': 1801}]              |49876   |[{'y': 61, 'x': 59}, {'y': 45, 'x': 45}]|2499719|Pass     |1609  |1H         |18.051874999999995|82.0      |177959179|[1801]      |61        |59        |45        |45        |\n",
      "|8      |High pass   |[{'id': 1801}]              |14869   |[{'y': 45, 'x': 45}, {'y': 54, 'x': 71}]|2499719|Pass     |1609  |1H         |20.426527         |83.0      |177959180|[1801]      |45        |45        |54        |71        |\n",
      "|1      |Air duel    |[{'id': 703}, {'id': 1801}] |8653    |[{'y': 46, 'x': 29}, {'y': 41, 'x': 50}]|2499719|Duel     |1631  |1H         |21.878309         |10.0      |177959191|[703, 1801] |46        |29        |41        |50        |\n",
      "|1      |Air duel    |[{'id': 701}, {'id': 1802}] |25413   |[{'y': 54, 'x': 71}, {'y': 59, 'x': 50}]|2499719|Duel     |1609  |1H         |22.551816         |10.0      |177959181|[701, 1802] |54        |71        |59        |50        |\n",
      "|8      |High pass   |[{'id': 1802}]              |3560    |[{'y': 59, 'x': 50}, {'y': 69, 'x': 76}]|2499719|Pass     |1609  |1H         |24.588310000000007|83.0      |177959182|[1802]      |59        |50        |69        |76        |\n",
      "|8      |Head pass   |[{'id': 1801}]              |8653    |[{'y': 31, 'x': 24}, {'y': 15, 'x': 42}]|2499719|Pass     |1631  |1H         |25.904249         |82.0      |177959194|[1801]      |31        |24        |15        |42        |\n",
      "|8      |Head pass   |[{'id': 1801}]              |8013    |[{'y': 15, 'x': 42}, {'y': 26, 'x': 29}]|2499719|Pass     |1631  |1H         |27.52769599999999 |82.0      |177959195|[1801]      |15        |42        |26        |29        |\n",
      "|8      |Simple pass |[{'id': 1801}]              |265366  |[{'y': 26, 'x': 29}, {'y': 8, 'x': 37}] |2499719|Pass     |1631  |1H         |29.980898         |85.0      |177959196|[1801]      |26        |29        |8         |37        |\n",
      "|8      |Simple pass |[{'id': 1801}]              |8013    |[{'y': 8, 'x': 37}, {'y': 5, 'x': 23}]  |2499719|Pass     |1631  |1H         |31.163870000000003|85.0      |177959197|[1801]      |8         |37        |5         |23        |\n",
      "|8      |High pass   |[{'id': 1802}]              |14853   |[{'y': 5, 'x': 23}, {'y': 19, 'x': 63}] |2499719|Pass     |1631  |1H         |32.80561800000001 |83.0      |177959202|[1802]      |5         |23        |19        |63        |\n",
      "+-------+------------+----------------------------+--------+----------------------------------------+-------+---------+------+-----------+------------------+----------+---------+------------+----------+----------+----------+----------+\n",
      "only showing top 20 rows\n",
      "\n"
     ]
    }
   ],
   "source": [
    "\n",
    "events_df = spark.read.csv(\"../raw/data/Dataset/events_England.csv\", header=True)\n",
    "events_df.show(truncate=False)"
   ]
  },
  {
   "cell_type": "code",
   "execution_count": 5,
   "metadata": {},
   "outputs": [
    {
     "name": "stdout",
     "output_type": "stream",
     "text": [
      "+------------------------------------------------------------------------------+------+--------------------+----------+---------------------------+-------------+----------+------+-----------------------------------------------------+------------------------------------------------------------------------------+------+-----+-------------------------+---------------------+\n",
      "|passportArea                                                                  |weight|firstName           |middleName|lastName                   |currentTeamId|birthDate |height|role                                                 |birthArea                                                                     |wyId  |foot |shortName                |currentNationalTeamId|\n",
      "+------------------------------------------------------------------------------+------+--------------------+----------+---------------------------+-------------+----------+------+-----------------------------------------------------+------------------------------------------------------------------------------+------+-----+-------------------------+---------------------+\n",
      "|{'name': 'Turkey', 'id': '792', 'alpha3code': 'TUR', 'alpha2code': 'TR'}      |78    |Harun               |NULL      |Tekin                      |4502.0       |1989-06-17|187   |{'code2': 'GK', 'code3': 'GKP', 'name': 'Goalkeeper'}|{'name': 'Turkey', 'id': '792', 'alpha3code': 'TUR', 'alpha2code': 'TR'}      |32777 |right|H. Tekin                 |4687.0               |\n",
      "|{'name': 'Senegal', 'id': '686', 'alpha3code': 'SEN', 'alpha2code': 'SN'}     |73    |Malang              |NULL      |Sarr                       |3775.0       |1999-01-23|182   |{'code2': 'DF', 'code3': 'DEF', 'name': 'Defender'}  |{'name': 'France', 'id': '250', 'alpha3code': 'FRA', 'alpha2code': 'FR'}      |393228|left |M. Sarr                  |4423.0               |\n",
      "|{'name': 'France', 'id': '250', 'alpha3code': 'FRA', 'alpha2code': 'FR'}      |72    |Over                |NULL      |Mandanda                   |3772.0       |1998-10-26|176   |{'code2': 'GK', 'code3': 'GKP', 'name': 'Goalkeeper'}|{'name': 'France', 'id': '250', 'alpha3code': 'FRA', 'alpha2code': 'FR'}      |393230|NULL |O. Mandanda              |NULL                 |\n",
      "|{'name': 'Senegal', 'id': '686', 'alpha3code': 'SEN', 'alpha2code': 'SN'}     |82    |Alfred John Momar   |NULL      |N'Diaye                    |683.0        |1990-03-06|187   |{'code2': 'MD', 'code3': 'MID', 'name': 'Midfielder'}|{'name': 'France', 'id': '250', 'alpha3code': 'FRA', 'alpha2code': 'FR'}      |32793 |right|A. N'Diaye               |19314.0              |\n",
      "|{'name': 'France', 'id': '250', 'alpha3code': 'FRA', 'alpha2code': 'FR'}      |84    |Ibrahima            |NULL      |Konat\\u00e9                |2975.0       |1999-05-25|192   |{'code2': 'DF', 'code3': 'DEF', 'name': 'Defender'}  |{'name': 'France', 'id': '250', 'alpha3code': 'FRA', 'alpha2code': 'FR'}      |393247|right|I. Konat\\u00e9           |NULL                 |\n",
      "|{'name': 'Netherlands', 'id': '528', 'alpha3code': 'NLD', 'alpha2code': 'NL'} |83    |Jasper              |NULL      |Cillessen                  |676.0        |1989-04-22|185   |{'code2': 'GK', 'code3': 'GKP', 'name': 'Goalkeeper'}|{'name': 'Netherlands', 'id': '528', 'alpha3code': 'NLD', 'alpha2code': 'NL'} |33    |right|J. Cillessen             |664.0                |\n",
      "|{'name': 'Belgium', 'id': '56', 'alpha3code': 'BEL', 'alpha2code': 'BE'}      |91    |Toby                |NULL      |Alderweireld               |1624.0       |1989-03-02|187   |{'code2': 'DF', 'code3': 'DEF', 'name': 'Defender'}  |{'name': 'Belgium', 'id': '56', 'alpha3code': 'BEL', 'alpha2code': 'BE'}      |36    |right|T. Alderweireld          |5629.0               |\n",
      "|{'name': 'Belgium', 'id': '56', 'alpha3code': 'BEL', 'alpha2code': 'BE'}      |88    |Jan                 |NULL      |Vertonghen                 |1624.0       |1987-04-24|189   |{'code2': 'DF', 'code3': 'DEF', 'name': 'Defender'}  |{'name': 'Belgium', 'id': '56', 'alpha3code': 'BEL', 'alpha2code': 'BE'}      |48    |left |J. Vertonghen            |5629.0               |\n",
      "|{'name': 'France', 'id': '250', 'alpha3code': 'FRA', 'alpha2code': 'FR'}      |74    |Alexander           |NULL      |Djiku                      |3783.0       |1994-08-09|182   |{'code2': 'DF', 'code3': 'DEF', 'name': 'Defender'}  |{'name': 'France', 'id': '250', 'alpha3code': 'FRA', 'alpha2code': 'FR'}      |229427|right|A. Djiku                 |NULL                 |\n",
      "|{'name': 'Denmark', 'id': '208', 'alpha3code': 'DNK', 'alpha2code': 'DK'}     |76    |Christian           |NULL      |Dannemann Eriksen          |1624.0       |1992-02-14|180   |{'code2': 'MD', 'code3': 'MID', 'name': 'Midfielder'}|{'name': 'Denmark', 'id': '208', 'alpha3code': 'DNK', 'alpha2code': 'DK'}     |54    |right|C. Eriksen               |7712.0               |\n",
      "|{'name': 'Austria', 'id': '40', 'alpha3code': 'AUT', 'alpha2code': 'AT'}      |74    |Marcel              |NULL      |Sabitzer                   |2975.0       |1994-03-17|177   |{'code2': 'MD', 'code3': 'MID', 'name': 'Midfielder'}|{'name': 'Austria', 'id': '40', 'alpha3code': 'AUT', 'alpha2code': 'AT'}      |65596 |right|M. Sabitzer              |NULL                 |\n",
      "|{'name': 'Iceland', 'id': '352', 'alpha3code': 'ISL', 'alpha2code': 'IS'}     |84    |Kolbeinn            |NULL      |Sig\\u00fe\\u00f3rsson       |3770.0       |1990-03-14|186   |{'code2': 'FW', 'code3': 'FWD', 'name': 'Forward'}   |{'name': 'Iceland', 'id': '352', 'alpha3code': 'ISL', 'alpha2code': 'IS'}     |66    |right|K. Sig\\u00fe\\u00f3rsson  |NULL                 |\n",
      "|{'name': 'France', 'id': '250', 'alpha3code': 'FRA', 'alpha2code': 'FR'}      |74    |Charles             |NULL      |Traor\\u00e9                |3795.0       |1992-01-01|180   |{'code2': 'DF', 'code3': 'DEF', 'name': 'Defender'}  |{'name': 'Mali', 'id': '466', 'alpha3code': 'MLI', 'alpha2code': 'ML'}        |393284|left |C. Traor\\u00e9           |NULL                 |\n",
      "|{'name': 'Finland', 'id': '246', 'alpha3code': 'FIN', 'alpha2code': 'FI'}     |75    |Niklas              |NULL      |Moisander                  |2443.0       |1985-09-29|183   |{'code2': 'DF', 'code3': 'DEF', 'name': 'Defender'}  |{'name': 'Finland', 'id': '246', 'alpha3code': 'FIN', 'alpha2code': 'FI'}     |77    |left |N. Moisander             |4849.0               |\n",
      "|{'name': 'Cura\\u00e7ao', 'id': '531', 'alpha3code': 'CUW', 'alpha2code': 'CW'}|91    |Charlison           |NULL      |Benschop                   |2455.0       |1989-08-21|191   |{'code2': 'FW', 'code3': 'FWD', 'name': 'Forward'}   |{'name': 'Cura\\u00e7ao', 'id': '531', 'alpha3code': 'CUW', 'alpha2code': 'CW'}|91    |right|C. Benschop              |18138.0              |\n",
      "|{'name': 'Iceland', 'id': '352', 'alpha3code': 'ISL', 'alpha2code': 'IS'}     |77    |Johann              |NULL      |Berg Gu\\u00f0munds\\u00adson|1646.0       |1990-10-27|186   |{'code2': 'MD', 'code3': 'MID', 'name': 'Midfielder'}|{'name': 'Iceland', 'id': '352', 'alpha3code': 'ISL', 'alpha2code': 'IS'}     |93    |left |J. Gu\\u00f0munds\\u00adson|7839.0               |\n",
      "|{'name': 'Poland', 'id': '616', 'alpha3code': 'POL', 'alpha2code': 'PL'}      |83    |Przemys\\u0142aw     |NULL      |Tyto\\u0144                 |677.0        |1987-01-04|194   |{'code2': 'GK', 'code3': 'GKP', 'name': 'Goalkeeper'}|{'name': 'Poland', 'id': '616', 'alpha3code': 'POL', 'alpha2code': 'PL'}      |99    |right|P. Tyto\\u0144            |NULL                 |\n",
      "|{'name': 'Brazil', 'id': '76', 'alpha3code': 'BRA', 'alpha2code': 'BR'}       |85    |Marcelo Ant\\u00f4nio|NULL      |Guedes Filho               |3766.0       |1987-05-20|191   |{'code2': 'DF', 'code3': 'DEF', 'name': 'Defender'}  |{'name': 'Brazil', 'id': '76', 'alpha3code': 'BRA', 'alpha2code': 'BR'}       |102   |right|Marcelo                  |NULL                 |\n",
      "|{'name': 'Cura\\u00e7ao', 'id': '531', 'alpha3code': 'CUW', 'alpha2code': 'CW'}|65    |Jetro               |NULL      |Willems                    |2462.0       |1994-03-30|169   |{'code2': 'DF', 'code3': 'DEF', 'name': 'Defender'}  |{'name': 'Netherlands', 'id': '528', 'alpha3code': 'NLD', 'alpha2code': 'NL'} |110   |left |J. Willems               |NULL                 |\n",
      "|{'name': 'Iraq', 'id': '368', 'alpha3code': 'IRQ', 'alpha2code': 'IQ'}        |78    |Ali Adnan Kadhim    |NULL      |Al Tameemi                 |3163.0       |1993-12-19|186   |{'code2': 'DF', 'code3': 'DEF', 'name': 'Defender'}  |{'name': 'Iraq', 'id': '368', 'alpha3code': 'IRQ', 'alpha2code': 'IQ'}        |131184|left |Ali Adnan                |17759.0              |\n",
      "+------------------------------------------------------------------------------+------+--------------------+----------+---------------------------+-------------+----------+------+-----------------------------------------------------+------------------------------------------------------------------------------+------+-----+-------------------------+---------------------+\n",
      "only showing top 20 rows\n",
      "\n"
     ]
    }
   ],
   "source": [
    "from pyspark.sql.functions import explode\n",
    "\n",
    "players_df = spark.read.csv(\"../data/raw/Dataset/players.csv\", header=True)\n",
    "players_df.show(truncate=False)"
   ]
  },
  {
   "cell_type": "code",
   "execution_count": 6,
   "metadata": {},
   "outputs": [
    {
     "name": "stdout",
     "output_type": "stream",
     "text": [
      "+-------+------------+------------------------------------------------------+--------+----------------------------------------+-------+---------+------+-----------+------------------+----------+---------+----------------------+----------+----------+----------+----------+--------------------------------------------------------------------------+------+----------------+----------+------------------------+-------------+----------+------+-----------------------------------------------------+--------------------------------------------------------------------------+------+-----+-------------------+---------------------+\n",
      "|eventId|subEventName|tags                                                  |playerId|positions                               |matchId|eventName|teamId|matchPeriod|eventSec          |subEventId|id       |tagsList              |pos_orig_y|pos_orig_x|pos_dest_y|pos_dest_x|passportArea                                                              |weight|firstName       |middleName|lastName                |currentTeamId|birthDate |height|role                                                 |birthArea                                                                 |wyId  |foot |shortName          |currentNationalTeamId|\n",
      "+-------+------------+------------------------------------------------------+--------+----------------------------------------+-------+---------+------+-----------+------------------+----------+---------+----------------------+----------+----------+----------+----------+--------------------------------------------------------------------------+------+----------------+----------+------------------------+-------------+----------+------+-----------------------------------------------------+--------------------------------------------------------------------------+------+-----+-------------------+---------------------+\n",
      "|3      |Penalty     |[{'id': 101}, {'id': 402}, {'id': 1205}, {'id': 1801}]|15808   |[{'y': 51, 'x': 91}, {'y': 66, 'x': 89}]|2499727|Free Kick|1612  |2H         |582.4097310000002 |35.0      |178083797|[101, 402, 1205, 1801]|0         |0         |49        |9         |{'name': 'Brazil', 'id': '76', 'alpha3code': 'BRA', 'alpha2code': 'BR'}   |76    |Roberto Firmino |NULL      |Barbosa de Oliveira     |1612.0       |1991-10-02|181   |{'code2': 'FW', 'code3': 'FWD', 'name': 'Forward'}   |{'name': 'Brazil', 'id': '76', 'alpha3code': 'BRA', 'alpha2code': 'BR'}   |15808 |right|Roberto Firmino    |6380.0               |\n",
      "|3      |Penalty     |[{'id': 401}, {'id': 1204}, {'id': 1802}]             |7905    |[{'y': 50, 'x': 90}, {'y': 27, 'x': 88}]|2499744|Free Kick|1611  |2H         |435.3344579999998 |35.0      |182222880|[401, 1204, 1802]     |100       |100       |0         |100       |{'name': 'Congo DR', 'id': '180', 'alpha3code': 'COD', 'alpha2code': 'CD'}|94    |Romelu          |NULL      |Lukaku Menama           |1611.0       |1993-05-13|190   |{'code2': 'FW', 'code3': 'FWD', 'name': 'Forward'}   |{'name': 'Belgium', 'id': '56', 'alpha3code': 'BEL', 'alpha2code': 'BE'}  |7905  |left |R. Lukaku          |5629.0               |\n",
      "|3      |Penalty     |[{'id': 101}, {'id': 402}, {'id': 1203}, {'id': 1801}]|12829   |[{'y': 51, 'x': 90}, {'y': 41, 'x': 97}]|2499753|Free Kick|1631  |2H         |976.9021540000005 |35.0      |185750948|[101, 402, 1203, 1801]|0         |0         |64        |99        |{'name': 'England', 'id': '0', 'alpha3code': 'XEN', 'alpha2code': ''}     |76    |Jamie           |NULL      |Vardy                   |1631.0       |1987-01-11|178   |{'code2': 'FW', 'code3': 'FWD', 'name': 'Forward'}   |{'name': 'England', 'id': '0', 'alpha3code': 'XEN', 'alpha2code': ''}     |12829 |right|J. Vardy           |2413.0               |\n",
      "|3      |Penalty     |[{'id': 101}, {'id': 402}, {'id': 1201}, {'id': 1801}]|12829   |[{'y': 50, 'x': 89}, {'y': 79, 'x': 91}]|2499762|Free Kick|1631  |2H         |265.41819399999986|35.0      |188000630|[101, 402, 1201, 1801]|98        |32        |100       |35        |{'name': 'England', 'id': '0', 'alpha3code': 'XEN', 'alpha2code': ''}     |76    |Jamie           |NULL      |Vardy                   |1631.0       |1987-01-11|178   |{'code2': 'FW', 'code3': 'FWD', 'name': 'Forward'}   |{'name': 'England', 'id': '0', 'alpha3code': 'XEN', 'alpha2code': ''}     |12829 |right|J. Vardy           |2413.0               |\n",
      "|3      |Penalty     |[{'id': 101}, {'id': 402}, {'id': 1201}, {'id': 1801}]|134513  |[{'y': 49, 'x': 89}, {'y': 37, 'x': 88}]|2499764|Free Kick|1611  |2H         |2798.827886       |35.0      |188306727|[101, 402, 1201, 1801]|25        |37        |25        |37        |{'name': 'Guadeloupe', 'id': 312, 'alpha3code': 'GLP', 'alpha2code': 'GP'}|76    |Anthony         |NULL      |Martial                 |1611.0       |1995-12-05|184   |{'code2': 'FW', 'code3': 'FWD', 'name': 'Forward'}   |{'name': 'France', 'id': 250, 'alpha3code': 'FRA', 'alpha2code': 'FR'}    |134513|right|A. Martial         |NULL                 |\n",
      "|3      |Penalty     |[{'id': 101}, {'id': 402}, {'id': 1208}, {'id': 1801}]|11066   |[{'y': 50, 'x': 90}, {'y': 58, 'x': 89}]|2499767|Free Kick|1625  |2H         |2582.949591       |35.0      |188011629|[101, 402, 1208, 1801]|58        |29        |27        |30        |{'name': 'England', 'id': '0', 'alpha3code': 'XEN', 'alpha2code': ''}     |69    |Raheem Shaquille|NULL      |Sterling                |1625.0       |1994-12-08|170   |{'code2': 'FW', 'code3': 'FWD', 'name': 'Forward'}   |{'name': 'Jamaica', 'id': '388', 'alpha3code': 'JAM', 'alpha2code': 'JM'} |11066 |right|R. Sterling        |2413.0               |\n",
      "|3      |Penalty     |[{'id': 101}, {'id': 402}, {'id': 1202}, {'id': 1801}]|25413   |[{'y': 50, 'x': 90}, {'y': 29, 'x': 97}]|2499769|Free Kick|1609  |2H         |1312.3844559999998|35.0      |190851093|[101, 402, 1202, 1801]|82        |41        |18        |59        |{'name': 'Guadeloupe', 'id': 312, 'alpha3code': 'GLP', 'alpha2code': 'GP'}|73    |Alexandre       |NULL      |Lacazette               |1609.0       |1991-05-28|175   |{'code2': 'FW', 'code3': 'FWD', 'name': 'Forward'}   |{'name': 'France', 'id': 250, 'alpha3code': 'FRA', 'alpha2code': 'FR'}    |25413 |right|A. Lacazette       |NULL                 |\n",
      "|3      |Penalty     |[{'id': 402}, {'id': 1203}, {'id': 1802}]             |12829   |[{'y': 50, 'x': 89}, {'y': 26, 'x': 86}]|2499773|Free Kick|1631  |2H         |1647.7550469999996|35.0      |190080069|[402, 1203, 1802]     |97        |86        |96        |97        |{'name': 'England', 'id': '0', 'alpha3code': 'XEN', 'alpha2code': ''}     |76    |Jamie           |NULL      |Vardy                   |1631.0       |1987-01-11|178   |{'code2': 'FW', 'code3': 'FWD', 'name': 'Forward'}   |{'name': 'England', 'id': '0', 'alpha3code': 'XEN', 'alpha2code': ''}     |12829 |right|J. Vardy           |2413.0               |\n",
      "|3      |Penalty     |[{'id': 402}, {'id': 1202}, {'id': 1802}]             |9532    |[{'y': 49, 'x': 89}, {'y': 68, 'x': 88}]|2499786|Free Kick|1639  |1H         |2549.178076       |35.0      |192327426|[402, 1202, 1802]     |74        |43        |74        |43        |{'name': 'England', 'id': 0, 'alpha3code': 'XEN', 'alpha2code': ''}       |83    |Saido           |NULL      |Berahino                |1639.0       |1993-08-04|180   |{'code2': 'FW', 'code3': 'FWD', 'name': 'Forward'}   |{'name': 'Burundi', 'id': 108, 'alpha3code': 'BDI', 'alpha2code': 'BI'}   |9532  |right|S. Berahino        |19412.0              |\n",
      "|3      |Penalty     |[{'id': 101}, {'id': 402}, {'id': 1205}, {'id': 1801}]|7944    |[{'y': 50, 'x': 89}, {'y': 43, 'x': 92}]|2499789|Free Kick|1623  |2H         |2650.847124       |35.0      |196547111|[101, 402, 1205, 1801]|12        |24        |4         |53        |{'name': 'England', 'id': 0, 'alpha3code': 'XEN', 'alpha2code': ''}       |83    |Wayne           |NULL      |Rooney                  |7852.0       |1985-10-24|176   |{'code2': 'FW', 'code3': 'FWD', 'name': 'Forward'}   |{'name': 'England', 'id': 0, 'alpha3code': 'XEN', 'alpha2code': ''}       |7944  |right|W. Rooney          |NULL                 |\n",
      "|3      |Penalty     |[{'id': 101}, {'id': 401}, {'id': 1206}, {'id': 1801}]|20857   |[{'y': 51, 'x': 90}, {'y': 29, 'x': 97}]|2499795|Free Kick|1619  |2H         |1781.0410119999997|35.0      |196630615|[101, 401, 1206, 1801]|86        |69        |78        |57        |{'name': 'Italy', 'id': 380, 'alpha3code': 'ITA', 'alpha2code': 'IT'}     |81    |Manolo          |NULL      |Gabbiadini              |1619.0       |1991-11-26|186   |{'code2': 'FW', 'code3': 'FWD', 'name': 'Forward'}   |{'name': 'Italy', 'id': 380, 'alpha3code': 'ITA', 'alpha2code': 'IT'}     |20857 |left |M. Gabbiadini      |NULL                 |\n",
      "|3      |Penalty     |[{'id': 101}, {'id': 402}, {'id': 1206}, {'id': 1801}]|8903    |[{'y': 49, 'x': 89}, {'y': 29, 'x': 91}]|2499798|Free Kick|1644  |2H         |1563.8627850000005|35.0      |196274809|[101, 402, 1206, 1801]|100       |73        |0         |27        |{'name': 'Jamaica', 'id': 388, 'alpha3code': 'JAM', 'alpha2code': 'JM'}   |90    |Troy            |NULL      |Deeney                  |1644.0       |1988-06-29|183   |{'code2': 'FW', 'code3': 'FWD', 'name': 'Forward'}   |{'name': 'England', 'id': 0, 'alpha3code': 'XEN', 'alpha2code': ''}       |8903  |right|T. Deeney          |NULL                 |\n",
      "|3      |Penalty     |[{'id': 101}, {'id': 402}, {'id': 1202}, {'id': 1801}]|8325    |[{'y': 51, 'x': 89}, {'y': 36, 'x': 94}]|2499802|Free Kick|1625  |1H         |1759.667064       |35.0      |198517923|[101, 402, 1202, 1801]|4         |69        |4         |69        |{'name': 'Spain', 'id': '724', 'alpha3code': 'ESP', 'alpha2code': 'ES'}   |70    |Sergio Leonel   |NULL      |Ag\\u00fcero del Castillo|1625.0       |1988-06-02|173   |{'code2': 'FW', 'code3': 'FWD', 'name': 'Forward'}   |{'name': 'Argentina', 'id': '32', 'alpha3code': 'ARG', 'alpha2code': 'AR'}|8325  |right|S. Ag\\u00fcero     |12274.0              |\n",
      "|3      |Penalty     |[{'id': 101}, {'id': 402}, {'id': 1201}, {'id': 1801}]|8959    |[{'y': 51, 'x': 90}, {'y': 39, 'x': 91}]|2499805|Free Kick|1659  |1H         |1049.066012       |35.0      |198536964|[101, 402, 1201, 1801]|7         |68        |31        |72        |{'name': 'St. Lucia', 'id': 662, 'alpha3code': 'LCA', 'alpha2code': 'LC'} |76    |Junior          |NULL      |Stanislas               |1659.0       |1989-11-26|183   |{'code2': 'MD', 'code3': 'MID', 'name': 'Midfielder'}|{'name': 'England', 'id': 0, 'alpha3code': 'XEN', 'alpha2code': ''}       |8959  |right|J. Stanislas       |NULL                 |\n",
      "|3      |Penalty     |[{'id': 101}, {'id': 402}, {'id': 1201}, {'id': 1801}]|8416    |[{'y': 50, 'x': 89}, {'y': 33, 'x': 91}]|2499808|Free Kick|1651  |2H         |1790.473462       |35.0      |198243784|[101, 402, 1201, 1801]|83        |31        |70        |38        |{'name': 'England', 'id': 0, 'alpha3code': 'XEN', 'alpha2code': ''}       |84    |Glenn           |NULL      |Murray                  |1651.0       |1983-09-25|185   |{'code2': 'FW', 'code3': 'FWD', 'name': 'Forward'}   |{'name': 'England', 'id': 0, 'alpha3code': 'XEN', 'alpha2code': ''}       |8416  |right|G. Murray          |NULL                 |\n",
      "|3      |Penalty     |[{'id': 101}, {'id': 402}, {'id': 1204}, {'id': 1801}]|127537  |[{'y': 51, 'x': 90}, {'y': 36, 'x': 89}]|2499813|Free Kick|1628  |2H         |278.40618600000016|35.0      |200753072|[101, 402, 1204, 1801]|87        |27        |13        |73        |{'name': 'Serbia', 'id': '688', 'alpha3code': 'SRB', 'alpha2code': 'RS'}  |80    |Luka            |NULL      |Milivojevi\\u0107        |1628.0       |1991-04-07|186   |{'code2': 'MD', 'code3': 'MID', 'name': 'Midfielder'}|{'name': 'Serbia', 'id': '688', 'alpha3code': 'SRB', 'alpha2code': 'RS'}  |127537|right|L. Milivojevi\\u0107|17322.0              |\n",
      "|3      |Penalty     |[{'id': 401}, {'id': 1203}, {'id': 1802}]             |120353  |[{'y': 50, 'x': 89}, {'y': 53, 'x': 94}]|2499815|Free Kick|1612  |1H         |2505.939688       |35.0      |200691897|[401, 1203, 1802]     |11        |24        |11        |24        |{'name': 'Egypt', 'id': '818', 'alpha3code': 'EGY', 'alpha2code': 'EG'}   |72    |Mohamed         |NULL      |Salah Ghaly             |1612.0       |1992-06-15|175   |{'code2': 'FW', 'code3': 'FWD', 'name': 'Forward'}   |{'name': 'Egypt', 'id': '818', 'alpha3code': 'EGY', 'alpha2code': 'EG'}   |120353|left |Mohamed Salah      |16129.0              |\n",
      "|3      |Penalty     |[{'id': 101}, {'id': 401}, {'id': 1204}, {'id': 1801}]|8239    |[{'y': 50, 'x': 90}, {'y': 73, 'x': 92}]|2499820|Free Kick|1623  |2H         |2755.065901       |35.0      |203362832|[101, 401, 1204, 1801]|100       |9         |100       |9         |{'name': 'England', 'id': 0, 'alpha3code': 'XEN', 'alpha2code': ''}       |70    |Leighton        |NULL      |Baines                  |1623.0       |1984-12-11|170   |{'code2': 'DF', 'code3': 'DEF', 'name': 'Defender'}  |{'name': 'England', 'id': 0, 'alpha3code': 'XEN', 'alpha2code': ''}       |8239  |left |L. Baines          |NULL                 |\n",
      "|3      |Penalty     |[{'id': 402}, {'id': 1212}, {'id': 1802}]             |7929    |[{'y': 50, 'x': 89}, {'y': 49, 'x': 94}]|2499820|Free Kick|1644  |2H         |3307.2551670000003|35.0      |203362731|[402, 1212, 1802]     |0         |80        |0         |80        |{'name': 'England', 'id': 0, 'alpha3code': 'XEN', 'alpha2code': ''}       |67    |Tom             |NULL      |Cleverley               |1644.0       |1989-08-12|175   |{'code2': 'MD', 'code3': 'MID', 'name': 'Midfielder'}|{'name': 'England', 'id': 0, 'alpha3code': 'XEN', 'alpha2code': ''}       |7929  |right|T. Cleverley       |NULL                 |\n",
      "|3      |Penalty     |[{'id': 101}, {'id': 402}, {'id': 1202}, {'id': 1801}]|8325    |[{'y': 50, 'x': 89}, {'y': 71, 'x': 94}]|2499822|Free Kick|1625  |2H         |252.55480399999988|35.0      |203381487|[101, 402, 1202, 1801]|74        |41        |74        |41        |{'name': 'Spain', 'id': '724', 'alpha3code': 'ESP', 'alpha2code': 'ES'}   |70    |Sergio Leonel   |NULL      |Ag\\u00fcero del Castillo|1625.0       |1988-06-02|173   |{'code2': 'FW', 'code3': 'FWD', 'name': 'Forward'}   |{'name': 'Argentina', 'id': '32', 'alpha3code': 'ARG', 'alpha2code': 'AR'}|8325  |right|S. Ag\\u00fcero     |12274.0              |\n",
      "+-------+------------+------------------------------------------------------+--------+----------------------------------------+-------+---------+------+-----------+------------------+----------+---------+----------------------+----------+----------+----------+----------+--------------------------------------------------------------------------+------+----------------+----------+------------------------+-------------+----------+------+-----------------------------------------------------+--------------------------------------------------------------------------+------+-----+-------------------+---------------------+\n",
      "only showing top 20 rows\n",
      "\n"
     ]
    }
   ],
   "source": [
    "# left join the events and player dataframe\n",
    "\n",
    "from pyspark.sql.functions import col, concat, count, lit\n",
    "\n",
    "combine_df = events_df.join(players_df, on=events_df.playerId == players_df.wyId, how=\"left\") \\\n",
    "                .where((col(\"subEventName\") == \"Penalty\") & (col(\"eventName\") == \"Free Kick\"))\n",
    "combine_df.show(truncate=False)"
   ]
  },
  {
   "cell_type": "code",
   "execution_count": 7,
   "metadata": {},
   "outputs": [
    {
     "name": "stdout",
     "output_type": "stream",
     "text": [
      "+--------+---------------------+----------+--------+------------------+\n",
      "|playerId|playerName           |numPKGoals|numPKAtt|PKSuccessRate     |\n",
      "+--------+---------------------+----------+--------+------------------+\n",
      "|12829   |Jamie Vardy          |4         |5       |0.8               |\n",
      "|127537  |Luka Milivojevi\\u0107|4         |7       |0.5714285714285714|\n",
      "+--------+---------------------+----------+--------+------------------+\n",
      "\n"
     ]
    }
   ],
   "source": [
    "# Select required column and create new columns\n",
    "from pyspark.sql.functions import from_json, col, size, try_divide\n",
    "\n",
    "selected_df = combine_df.select(col(\"playerId\"), concat(col(\"firstName\"), lit(\" \"), col(\"lastName\")).alias(\"playerName\"), size(from_json(col(\"tags\"), \"array<map<string,string>>\")).alias(\"numPKGoals\"))\n",
    "selected_df = selected_df.groupBy(\"playerId\", \"playerName\", \"numPKGoals\").agg(count(\"playerId\").alias(\"numPKAtt\"))\n",
    "selected_df = selected_df.withColumn(\"PKSuccessRate\", try_divide(left=col(\"numPKGoals\"),right=col(\"numPKAtt\")))\n",
    "selected_df.filter(col(\"numPkAtt\") >=5).show(truncate=False)"
   ]
  },
  {
   "cell_type": "code",
   "execution_count": 8,
   "metadata": {},
   "outputs": [],
   "source": [
    "spark.stop()"
   ]
  }
 ],
 "metadata": {
  "kernelspec": {
   "display_name": "venv",
   "language": "python",
   "name": "python3"
  },
  "language_info": {
   "codemirror_mode": {
    "name": "ipython",
    "version": 3
   },
   "file_extension": ".py",
   "mimetype": "text/x-python",
   "name": "python",
   "nbconvert_exporter": "python",
   "pygments_lexer": "ipython3",
   "version": "3.11.8"
  }
 },
 "nbformat": 4,
 "nbformat_minor": 2
}

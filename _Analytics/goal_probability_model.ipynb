{
 "cells": [
  {
   "cell_type": "code",
   "execution_count": 111,
   "metadata": {},
   "outputs": [],
   "source": [
    "# import libraries\n",
    "\n",
    "import pandas as pd\n",
    "import numpy as np\n",
    "import tensorflow as tf"
   ]
  },
  {
   "cell_type": "code",
   "execution_count": 112,
   "metadata": {},
   "outputs": [],
   "source": [
    "# start the spark server\n",
    "\n",
    "from pyspark.sql import SparkSession\n",
    "\n",
    "spark=SparkSession.builder.appName('goal_model').getOrCreate()"
   ]
  },
  {
   "cell_type": "code",
   "execution_count": null,
   "metadata": {},
   "outputs": [],
   "source": [
    "from pyspark.sql.functions import col\n",
    "from pyspark.sql.types import FloatType, BooleanType, StringType\n",
    "\n",
    "df = spark.read.csv(\"collection/dataCollect.csv\", header=True)\n",
    "df = df.withColumn(\"isGoal\", col(\"isGoal\").cast(BooleanType())).withColumn(\"shotDistance\", col(\"shotDistance\").cast(FloatType())) \\\n",
    "    .withColumn(\"shotAngle\", col(\"shotAngle\").cast(FloatType()))\n",
    "df.show()"
   ]
  },
  {
   "cell_type": "code",
   "execution_count": 213,
   "metadata": {},
   "outputs": [
    {
     "data": {
      "text/plain": [
       "shotDistance               float32\n",
       "shotAngle                  float32\n",
       "isGoal                       int32\n",
       "shotType_Free kick shot      int32\n",
       "shotType_Penalty             int32\n",
       "shotType_Shot                int32\n",
       "dtype: object"
      ]
     },
     "execution_count": 213,
     "metadata": {},
     "output_type": "execute_result"
    }
   ],
   "source": [
    "# convert df to pandas\n",
    "\n",
    "pandas_df = df.toPandas()\n",
    "pandas_df = pd.get_dummies(pandas_df, columns=['shotType'])\n",
    "pandas_df['isGoal'] = pandas_df['isGoal'].astype(int)\n",
    "pandas_df['shotType_Free kick shot'] = pandas_df['shotType_Free kick shot'].astype(int)\n",
    "pandas_df['shotType_Penalty'] = pandas_df['shotType_Penalty'].astype(int)\n",
    "pandas_df['shotType_Shot'] = pandas_df['shotType_Shot'].astype(int)\n",
    "pandas_df.dtypes"
   ]
  },
  {
   "cell_type": "code",
   "execution_count": 130,
   "metadata": {},
   "outputs": [],
   "source": [
    "# Shuffle and split the dataset\n",
    "\n",
    "dataset = pandas_df.sample(frac=1) # shuffle the dataset\n",
    "\n",
    "# Get the feature and output column\n",
    "features_df = dataset[[\"shotType_Free kick shot\", \"shotType_Penalty\", \"shotType_Shot\", \"shotDistance\", \"shotAngle\"]]\n",
    "output_df = dataset[\"isGoal\"]\n",
    "\n",
    "train_size = int(0.7 * len(pandas_df))\n",
    "\n",
    "\n",
    "X_train, X_test = features_df[:train_size], features_df[train_size:]\n",
    "y_train, y_test = output_df[:train_size], output_df[train_size:]"
   ]
  },
  {
   "cell_type": "code",
   "execution_count": 261,
   "metadata": {},
   "outputs": [
    {
     "data": {
      "text/html": [
       "<div>\n",
       "<style scoped>\n",
       "    .dataframe tbody tr th:only-of-type {\n",
       "        vertical-align: middle;\n",
       "    }\n",
       "\n",
       "    .dataframe tbody tr th {\n",
       "        vertical-align: top;\n",
       "    }\n",
       "\n",
       "    .dataframe thead th {\n",
       "        text-align: right;\n",
       "    }\n",
       "</style>\n",
       "<table border=\"1\" class=\"dataframe\">\n",
       "  <thead>\n",
       "    <tr style=\"text-align: right;\">\n",
       "      <th></th>\n",
       "      <th>shotType_Free kick shot</th>\n",
       "      <th>shotType_Penalty</th>\n",
       "      <th>shotType_Shot</th>\n",
       "      <th>shotDistance</th>\n",
       "      <th>shotAngle</th>\n",
       "    </tr>\n",
       "  </thead>\n",
       "  <tbody>\n",
       "    <tr>\n",
       "      <th>3708</th>\n",
       "      <td>0</td>\n",
       "      <td>0</td>\n",
       "      <td>1</td>\n",
       "      <td>52.500000</td>\n",
       "      <td>7.975764</td>\n",
       "    </tr>\n",
       "    <tr>\n",
       "      <th>622</th>\n",
       "      <td>0</td>\n",
       "      <td>0</td>\n",
       "      <td>1</td>\n",
       "      <td>72.768417</td>\n",
       "      <td>5.733676</td>\n",
       "    </tr>\n",
       "    <tr>\n",
       "      <th>1939</th>\n",
       "      <td>0</td>\n",
       "      <td>0</td>\n",
       "      <td>1</td>\n",
       "      <td>70.553879</td>\n",
       "      <td>5.482955</td>\n",
       "    </tr>\n",
       "    <tr>\n",
       "      <th>7648</th>\n",
       "      <td>0</td>\n",
       "      <td>0</td>\n",
       "      <td>1</td>\n",
       "      <td>18.899843</td>\n",
       "      <td>13.815485</td>\n",
       "    </tr>\n",
       "    <tr>\n",
       "      <th>617</th>\n",
       "      <td>0</td>\n",
       "      <td>0</td>\n",
       "      <td>1</td>\n",
       "      <td>102.408791</td>\n",
       "      <td>3.862184</td>\n",
       "    </tr>\n",
       "    <tr>\n",
       "      <th>...</th>\n",
       "      <td>...</td>\n",
       "      <td>...</td>\n",
       "      <td>...</td>\n",
       "      <td>...</td>\n",
       "      <td>...</td>\n",
       "    </tr>\n",
       "    <tr>\n",
       "      <th>1249</th>\n",
       "      <td>0</td>\n",
       "      <td>0</td>\n",
       "      <td>1</td>\n",
       "      <td>58.006100</td>\n",
       "      <td>7.059862</td>\n",
       "    </tr>\n",
       "    <tr>\n",
       "      <th>3222</th>\n",
       "      <td>0</td>\n",
       "      <td>0</td>\n",
       "      <td>1</td>\n",
       "      <td>36.475201</td>\n",
       "      <td>11.222692</td>\n",
       "    </tr>\n",
       "    <tr>\n",
       "      <th>4018</th>\n",
       "      <td>0</td>\n",
       "      <td>0</td>\n",
       "      <td>1</td>\n",
       "      <td>63.414448</td>\n",
       "      <td>6.346617</td>\n",
       "    </tr>\n",
       "    <tr>\n",
       "      <th>7937</th>\n",
       "      <td>0</td>\n",
       "      <td>0</td>\n",
       "      <td>1</td>\n",
       "      <td>44.541416</td>\n",
       "      <td>7.114545</td>\n",
       "    </tr>\n",
       "    <tr>\n",
       "      <th>1091</th>\n",
       "      <td>0</td>\n",
       "      <td>0</td>\n",
       "      <td>1</td>\n",
       "      <td>55.716434</td>\n",
       "      <td>7.507834</td>\n",
       "    </tr>\n",
       "  </tbody>\n",
       "</table>\n",
       "<p>6216 rows × 5 columns</p>\n",
       "</div>"
      ],
      "text/plain": [
       "      shotType_Free kick shot  shotType_Penalty  shotType_Shot  shotDistance  \\\n",
       "3708                        0                 0              1     52.500000   \n",
       "622                         0                 0              1     72.768417   \n",
       "1939                        0                 0              1     70.553879   \n",
       "7648                        0                 0              1     18.899843   \n",
       "617                         0                 0              1    102.408791   \n",
       "...                       ...               ...            ...           ...   \n",
       "1249                        0                 0              1     58.006100   \n",
       "3222                        0                 0              1     36.475201   \n",
       "4018                        0                 0              1     63.414448   \n",
       "7937                        0                 0              1     44.541416   \n",
       "1091                        0                 0              1     55.716434   \n",
       "\n",
       "      shotAngle  \n",
       "3708   7.975764  \n",
       "622    5.733676  \n",
       "1939   5.482955  \n",
       "7648  13.815485  \n",
       "617    3.862184  \n",
       "...         ...  \n",
       "1249   7.059862  \n",
       "3222  11.222692  \n",
       "4018   6.346617  \n",
       "7937   7.114545  \n",
       "1091   7.507834  \n",
       "\n",
       "[6216 rows x 5 columns]"
      ]
     },
     "execution_count": 261,
     "metadata": {},
     "output_type": "execute_result"
    }
   ],
   "source": [
    "X_train"
   ]
  },
  {
   "cell_type": "code",
   "execution_count": 132,
   "metadata": {},
   "outputs": [
    {
     "name": "stderr",
     "output_type": "stream",
     "text": [
      "d:\\_office\\project\\football_prediction\\venv\\lib\\site-packages\\keras\\src\\layers\\core\\dense.py:87: UserWarning: Do not pass an `input_shape`/`input_dim` argument to a layer. When using Sequential models, prefer using an `Input(shape)` object as the first layer in the model instead.\n",
      "  super().__init__(activity_regularizer=activity_regularizer, **kwargs)\n"
     ]
    }
   ],
   "source": [
    "# Define the logistic regression model\n",
    "model = tf.keras.Sequential([\n",
    "    tf.keras.layers.Dense(128, activation=\"relu\", input_shape=(X_train.shape[1],)),  \n",
    "    tf.keras.layers.Dense(1, activation='sigmoid')\n",
    "])"
   ]
  },
  {
   "cell_type": "code",
   "execution_count": 133,
   "metadata": {},
   "outputs": [],
   "source": [
    "# Compile the model\n",
    "model.compile(optimizer='sgd', loss='binary_crossentropy', metrics=['accuracy'])"
   ]
  },
  {
   "cell_type": "code",
   "execution_count": null,
   "metadata": {},
   "outputs": [],
   "source": [
    "# Train the model\n",
    "model.fit(X_train, y_train, epochs=32)"
   ]
  },
  {
   "cell_type": "markdown",
   "metadata": {},
   "source": []
  },
  {
   "cell_type": "code",
   "execution_count": 239,
   "metadata": {},
   "outputs": [
    {
     "name": "stdout",
     "output_type": "stream",
     "text": [
      "\u001b[1m84/84\u001b[0m \u001b[32m━━━━━━━━━━━━━━━━━━━━\u001b[0m\u001b[37m\u001b[0m \u001b[1m0s\u001b[0m 2ms/step - accuracy: 0.6206 - loss: 0.6656\n",
      "Accuracy: 0.6081\n",
      "Loss: 0.6702\n"
     ]
    }
   ],
   "source": [
    "# Evaluate the model\n",
    "loss, accuracy = model.evaluate(X_test, y_test)\n",
    "print(f'Accuracy: {accuracy:.4f}')\n",
    "print(f'Loss: {loss:.4f}')"
   ]
  },
  {
   "cell_type": "code",
   "execution_count": 289,
   "metadata": {},
   "outputs": [
    {
     "name": "stdout",
     "output_type": "stream",
     "text": [
      "\u001b[1m1/1\u001b[0m \u001b[32m━━━━━━━━━━━━━━━━━━━━\u001b[0m\u001b[37m\u001b[0m \u001b[1m0s\u001b[0m 53ms/step\n"
     ]
    },
    {
     "data": {
      "text/html": [
       "<div>\n",
       "<style scoped>\n",
       "    .dataframe tbody tr th:only-of-type {\n",
       "        vertical-align: middle;\n",
       "    }\n",
       "\n",
       "    .dataframe tbody tr th {\n",
       "        vertical-align: top;\n",
       "    }\n",
       "\n",
       "    .dataframe thead th {\n",
       "        text-align: right;\n",
       "    }\n",
       "</style>\n",
       "<table border=\"1\" class=\"dataframe\">\n",
       "  <thead>\n",
       "    <tr style=\"text-align: right;\">\n",
       "      <th></th>\n",
       "      <th>shotType_Free kick shot</th>\n",
       "      <th>shotType_Penalty</th>\n",
       "      <th>shotType_Shot</th>\n",
       "      <th>shotDistance</th>\n",
       "      <th>shotAngle</th>\n",
       "    </tr>\n",
       "  </thead>\n",
       "  <tbody>\n",
       "    <tr>\n",
       "      <th>1</th>\n",
       "      <td>0.0</td>\n",
       "      <td>1.0</td>\n",
       "      <td>0.0</td>\n",
       "      <td>80.673714</td>\n",
       "      <td>4.937416</td>\n",
       "    </tr>\n",
       "  </tbody>\n",
       "</table>\n",
       "</div>"
      ],
      "text/plain": [
       "   shotType_Free kick shot  shotType_Penalty  shotType_Shot  shotDistance  \\\n",
       "1                      0.0               1.0            0.0     80.673714   \n",
       "\n",
       "   shotAngle  \n",
       "1   4.937416  "
      ]
     },
     "execution_count": 289,
     "metadata": {},
     "output_type": "execute_result"
    }
   ],
   "source": [
    "# required shape [<KerasTensor shape=(None, 5), dtype=float32, sparse=None, name=keras_tensor_16>]\n",
    "\n",
    "predict_df = pd.DataFrame(np.array([[0,1,0, 80.673714, 4.937416]]), columns=[\"shotType_Free kick shot\", \"shotType_Penalty\", \"shotType_Shot\", \"shotDistance\", \"shotAngle\"], index=(1,))\n",
    "\n",
    "# predict_df['shotType_Free kick shot'] = predict_df['shotType_Free kick shot'].astype(int)\n",
    "# predict_df['shotType_Penalty'] = predict_df['shotType_Penalty'].astype(int)\n",
    "# predict_df['shotType_Shot'] = predict_df['shotType_Shot'].astype(int)\n",
    "# predict_df['shotDistance'] = predict_df['shotDistance'].astype('float32')\n",
    "# predict_df['shotAngle'] = predict_df['shotAngle'].astype('float32')\n",
    "\n",
    "final_predictions = model.predict(predict_df)\n",
    "predict_df"
   ]
  },
  {
   "cell_type": "code",
   "execution_count": 290,
   "metadata": {},
   "outputs": [
    {
     "data": {
      "text/plain": [
       "array([[0.40887013]], dtype=float32)"
      ]
     },
     "execution_count": 290,
     "metadata": {},
     "output_type": "execute_result"
    }
   ],
   "source": [
    "final_predictions"
   ]
  },
  {
   "cell_type": "code",
   "execution_count": 291,
   "metadata": {},
   "outputs": [
    {
     "data": {
      "text/plain": [
       "array([1])"
      ]
     },
     "execution_count": 291,
     "metadata": {},
     "output_type": "execute_result"
    }
   ],
   "source": [
    "from sklearn.ensemble import GradientBoostingClassifier\n",
    "\n",
    "# Create a classifier object\n",
    "clf = GradientBoostingClassifier(n_estimators=100, learning_rate=0.1, max_depth=3)\n",
    "\n",
    "tree_dataset = dataset.dropna()\n",
    "\n",
    "# Get the feature and output column\n",
    "tree_features_df = tree_dataset[[\"shotType_Free kick shot\", \"shotType_Penalty\", \"shotType_Shot\", \"shotDistance\", \"shotAngle\"]]\n",
    "tree_output_df = tree_dataset[\"isGoal\"]\n",
    "\n",
    "\n",
    "tree_dataset= tree_dataset.astype(int)\n",
    "Xt_train, Xt_test = tree_features_df[:train_size], tree_features_df[train_size:]\n",
    "yt_train, yt_test = tree_output_df[:train_size], tree_output_df[train_size:]\n",
    "\n",
    "# Train the classifier on your data\n",
    "clf.fit(Xt_train, yt_train)\n",
    "\n",
    "# Make predictions on new data\n",
    "predictions = clf.predict(predict_df)\n",
    "predictions\n",
    "# print(Xt_test.iloc[12])\n",
    "# Evaluate the model performance\n",
    "# from sklearn.metrics import accuracy_score\n",
    "# accuracy = accuracy_score(yt_test, predictions)\n",
    "# print(\"Accuracy:\", accuracy)"
   ]
  }
 ],
 "metadata": {
  "kernelspec": {
   "display_name": "venv",
   "language": "python",
   "name": "python3"
  },
  "language_info": {
   "codemirror_mode": {
    "name": "ipython",
    "version": 3
   },
   "file_extension": ".py",
   "mimetype": "text/x-python",
   "name": "python",
   "nbconvert_exporter": "python",
   "pygments_lexer": "ipython3",
   "version": "3.10.10"
  }
 },
 "nbformat": 4,
 "nbformat_minor": 2
}
